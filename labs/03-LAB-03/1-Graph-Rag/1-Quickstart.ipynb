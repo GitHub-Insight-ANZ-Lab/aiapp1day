{
 "cells": [
  {
   "cell_type": "markdown",
   "metadata": {},
   "source": [
    "# GraphRAG Quickstart"
   ]
  },
  {
   "cell_type": "markdown",
   "metadata": {},
   "source": [
    "## Prerequisites\n",
    "Install 3rd party packages, not part of the Python Standard Library, to run the notebook"
   ]
  },
  {
   "cell_type": "code",
   "execution_count": 2,
   "metadata": {},
   "outputs": [
    {
     "name": "stdout",
     "output_type": "stream",
     "text": [
      "Requirement already satisfied: pip in /usr/local/python/3.12.1/lib/python3.12/site-packages (25.0.1)\n",
      "Requirement already satisfied: python-magic in /usr/local/python/3.12.1/lib/python3.12/site-packages (0.4.27)\n",
      "Requirement already satisfied: devtools in /usr/local/python/3.12.1/lib/python3.12/site-packages (0.12.2)\n",
      "Requirement already satisfied: asttokens<3.0.0,>=2.0.0 in /usr/local/python/3.12.1/lib/python3.12/site-packages (from devtools) (2.4.1)\n",
      "Requirement already satisfied: executing>=1.1.1 in /home/codespace/.local/lib/python3.12/site-packages (from devtools) (2.1.0)\n",
      "Requirement already satisfied: pygments>=2.15.0 in /home/codespace/.local/lib/python3.12/site-packages (from devtools) (2.18.0)\n",
      "Requirement already satisfied: six>=1.12.0 in /home/codespace/.local/lib/python3.12/site-packages (from asttokens<3.0.0,>=2.0.0->devtools) (1.17.0)\n",
      "Requirement already satisfied: requests in /home/codespace/.local/lib/python3.12/site-packages (2.32.3)\n",
      "Requirement already satisfied: charset-normalizer<4,>=2 in /home/codespace/.local/lib/python3.12/site-packages (from requests) (3.4.0)\n",
      "Requirement already satisfied: idna<4,>=2.5 in /home/codespace/.local/lib/python3.12/site-packages (from requests) (3.10)\n",
      "Requirement already satisfied: urllib3<3,>=1.21.1 in /home/codespace/.local/lib/python3.12/site-packages (from requests) (2.2.3)\n",
      "Requirement already satisfied: certifi>=2017.4.17 in /home/codespace/.local/lib/python3.12/site-packages (from requests) (2024.8.30)\n",
      "Requirement already satisfied: tqdm in /usr/local/python/3.12.1/lib/python3.12/site-packages (4.67.1)\n"
     ]
    }
   ],
   "source": [
    "! pip install --upgrade pip\n",
    "! pip install python-magic\n",
    "! pip install devtools  \n",
    "! pip install requests \n",
    "! pip install tqdm\n"
   ]
  },
  {
   "cell_type": "code",
   "execution_count": null,
   "metadata": {},
   "outputs": [],
   "source": [
    "\n",
    "import getpass\n",
    "import json\n",
    "import time\n",
    "from pathlib import Path\n",
    "import requests\n",
    "\n",
    "import magic\n",
    "from tqdm import tqdm\n",
    "from devtools import pprint\n",
    "\n",
    "endpoint = \"http://localhost/\""
   ]
  },
  {
   "cell_type": "markdown",
   "metadata": {},
   "source": [
    "## Query\n",
    "\n",
    "Once an indexing job is complete, the knowledge graph is ready to query. Two types of queries (global and local) are currently supported. We encourage you to try both and experience the difference in responses. Note that query response time is also correlated to the TPM quota of the Azure OpenAI model you are using."
   ]
  },
  {
   "cell_type": "code",
   "execution_count": 6,
   "metadata": {},
   "outputs": [],
   "source": [
    "# a helper function to parse out the result from a query response\n",
    "def parse_query_response(\n",
    "    response: requests.Response, return_context_data: bool = False\n",
    ") -> requests.Response | dict[list[dict]]:\n",
    "    \"\"\"\n",
    "    Print response['result'] value and return context data.\n",
    "    \"\"\"\n",
    "    if response.ok:\n",
    "        print(json.loads(response.text)[\"result\"])\n",
    "        if return_context_data:\n",
    "            return json.loads(response.text)[\"context_data\"]\n",
    "        return response\n",
    "    else:\n",
    "        print(response.reason)\n",
    "        print(response.content)\n",
    "        return response"
   ]
  },
  {
   "cell_type": "markdown",
   "metadata": {},
   "source": [
    "### Global Query \n",
    "\n",
    "Global queries are resource-intensive, but provide good responses to questions that require an understanding of the dataset as a whole."
   ]
  },
  {
   "cell_type": "code",
   "execution_count": null,
   "metadata": {},
   "outputs": [
    {
     "name": "stdout",
     "output_type": "stream",
     "text": [
      "Based on the available data, the top two bikes are the Touring-3000 Yellow and the Touring-3000 Blue. Here are the details:\n",
      "\n",
      "### Touring-3000 Yellow\n",
      "The Touring-3000 Yellow is a central entity in the biking community. It is designed for long-distance comfort and serves as the focal point for various biking products and accessories [Data: Reports (2)]. This bike is highly regarded for its ability to provide a comfortable ride over extended distances, making it a popular choice among long-distance cyclists.\n",
      "\n",
      "### Touring-3000 Blue\n",
      "The Touring-3000 Blue is another significant bike model. It is known for its smooth ride and high-quality components, positioning it as a premium option for biking enthusiasts [Data: Reports (1)]. This bike is favored by those who seek a top-tier biking experience with reliable performance and comfort.\n",
      "\n",
      "Unfortunately, the dataset does not provide information on the other top bikes beyond these two models. If you need more detailed information or additional bike recommendations, further data would be required.\n",
      "CPU times: total: 0 ns\n",
      "Wall time: 5.66 s\n"
     ]
    },
    {
     "data": {
      "text/plain": [
       "{'reports': [{'id': '2',\n",
       "   'title': 'Touring-3000 Yellow and Associated Biking Products',\n",
       "   'occurrence weight': 1.0,\n",
       "   'content': \"# Touring-3000 Yellow and Associated Biking Products\\n\\nThe community revolves around the Touring-3000 Yellow bike, which is central to various biking products and accessories. Key entities include the Classic Vest, HL Mountain Tire, ML Headset, Women's Tights, and Water Bottle, all of which are related to enhancing the biking experience. The relationships among these entities highlight their complementary roles in providing a comprehensive biking solution.\\n\\n## Touring-3000 Yellow as the central entity\\n\\nThe Touring-3000 Yellow bike is the central entity in this community, serving as the focal point for various biking products and accessories. This bike is designed for long-distance comfort, making it a key product for touring cyclists. Its relationships with other entities, such as the Classic Vest, HL Mountain Tire, ML Headset, Women's Tights, and Water Bottle, emphasize its importance in the biking community [Data: Relationships (3, 1, 4, 5, 6, 0, 2)].\\n\\n## Classic Vest's role in enhancing biking comfort\\n\\nThe Classic Vest is a versatile clothing item designed for spring and fall rides, offering excellent wind protection and reflective elements for enhanced night visibility. Its relationship with the Touring-3000 Yellow bike highlights its role in providing comfort and safety for long-distance rides [Data: Entities (3); Relationships (3)].\\n\\n## HL Mountain Tire's contribution to performance\\n\\nThe HL Mountain Tire is recognized for its durability and excellent grip on both wet and dry surfaces, making it suitable for aggressive trail riding and technical descents. Its compatibility with the Touring-3000 Yellow bike underscores its importance in ensuring reliable performance on rough terrain [Data: Entities (7); Relationships (1)].\\n\\n## ML Headset's impact on bike handling\\n\\nThe ML Headset is a high-quality bike component known for its smooth, well-sealed bearings and stable adjustment. Its relationship with the Touring-3000 Yellow bike indicates its role in enhancing the bike's handling and overall performance, making it a crucial component for cyclists [Data: Entities (11); Relationships (4)].\\n\\n## Women's Tights for rider comfort\\n\\nWomen's Tights are designed for cooler weather, providing comfort for rides up to 4 hours. Their relationship with the Touring-3000 Yellow bike highlights their importance in ensuring rider comfort during long-distance touring [Data: Entities (13); Relationships (5)].\\n\\n## Water Bottle's utility for long rides\\n\\nThe Water Bottle is a practical accessory known for its zero leaks and ability to keep water cool for several hours. Its relationship with the Touring-3000 Yellow bike emphasizes its utility for long rides, ensuring cyclists stay hydrated [Data: Entities (17); Relationships (2)].\\n\\n## Interconnectedness of biking products\\n\\nThe interconnectedness of the biking products, such as the Classic Vest, HL Mountain Tire, ML Headset, Women's Tights, and Water Bottle, with the Touring-3000 Yellow bike, highlights the comprehensive nature of this biking community. Each product plays a complementary role in enhancing the overall biking experience, making the community robust and well-integrated [Data: Relationships (3, 1, 4, 5, 6, 0, 2)].\",\n",
       "   'rank': 7.5,\n",
       "   'index_name': 'bike',\n",
       "   'index_id': '2'},\n",
       "  {'id': '0',\n",
       "   'title': 'Biking Accessories and Components Community',\n",
       "   'occurrence weight': 1.0,\n",
       "   'content': \"# Biking Accessories and Components Community\\n\\nThe community revolves around various biking accessories and components, including Half-Finger Gloves, Patch Kit, ML Bottom Bracket, and HL Mountain Pedal. These entities are interconnected through their relevance to biking, with specific relationships highlighting their complementary uses and benefits.\\n\\n## Half-Finger Gloves as a central accessory\\n\\nHalf-Finger Gloves are a key entity in this community, known for their comfort and breathability, priced at $24.49. They are designed to reduce numbness on long rides, making them particularly beneficial for long-distance touring on bikes like the Touring-3000 Yellow [Data: Entities (12); Relationships (6)]. The gloves feature strategically placed padding, a secure Velcro closure, and a mesh back for cooling, enhancing their appeal to cyclists [Data: Entities (12)].\\n\\n## Patch Kit's utility in biking\\n\\nThe Patch Kit, priced at $2.29, is an essential accessory for tires and tubes, known for its handiness and ease of use [Data: Entities (4)]. It is related to the Touring-3000 Yellow bike, highlighting its importance in the biking community for quick repairs during rides [Data: Relationships (0)]. Additionally, its connection with the ML Bottom Bracket underscores its relevance in maintaining bike components [Data: Relationships (11)].\\n\\n## ML Bottom Bracket's solid construction\\n\\nThe ML Bottom Bracket is a bike component priced at $101.24, recognized for its solid construction and ease of installation [Data: Entities (8)]. Its relationship with the Half-Finger Gloves and Patch Kit indicates its role in the broader biking accessories and components community [Data: Relationships (15, 11)]. This component is crucial for ensuring the smooth operation of bikes, making it a significant entity in this network.\\n\\n## HL Mountain Pedal's grip and installation\\n\\nThe HL Mountain Pedal, priced at $80.99, is known for its solid grip and ease of installation [Data: Entities (16)]. Its connection with the Half-Finger Gloves highlights its relevance in providing a comfortable and secure biking experience [Data: Relationships (19)]. This pedal is particularly important for mountain biking, where grip and stability are essential.\\n\\n## Interconnectedness of biking products\\n\\nThe relationships between these entities illustrate the interconnectedness of biking products. For example, the Half-Finger Gloves are linked to both the Touring-3000 Yellow bike and the HL Mountain Pedal, emphasizing their role in enhancing the biking experience [Data: Relationships (6, 19)]. Similarly, the Patch Kit's connection to the ML Bottom Bracket and the Touring-3000 Yellow bike underscores its utility in maintaining bike functionality [Data: Relationships (0, 11)].\",\n",
       "   'rank': 3.5,\n",
       "   'index_name': 'bike',\n",
       "   'index_id': '0'},\n",
       "  {'id': '1',\n",
       "   'title': 'Touring-3000 Blue and Related Biking Accessories',\n",
       "   'occurrence weight': 0.5,\n",
       "   'content': \"# Touring-3000 Blue and Related Biking Accessories\\n\\nThe community revolves around the Touring-3000 Blue bike model and its related accessories, including the Touring Tire and Mountain Tire Tube. These entities are interconnected through their association with biking products, highlighting their importance in the biking accessory market.\\n\\n## Touring-3000 Blue as the central entity\\n\\nTouring-3000 Blue is the central entity in this community, being a bike model priced at $742.35. It is known for its smooth ride and good components, making it a significant product in the biking market. The bike's quality and pricing position it as a premium option for biking enthusiasts [Data: Entities (1)].\\n\\n## Mountain Tire Tube's role in the community\\n\\nMountain Tire Tube is an accessory for tires and tubes, priced at $4.99. It is known for its durability and reliability, making it a valuable addition to the biking accessory market. The relationship between the Mountain Tire Tube and the Touring-3000 Blue bike highlights the importance of reliable accessories for premium bike models [Data: Entities (5); Relationships (7)].\\n\\n## Touring Tire's significance\\n\\nTouring Tire is another key entity in this community, being an accessory for tires and tubes priced at $28.99. It is known for its durability and smooth ride, making it a popular choice among biking enthusiasts. The relationship between the Touring Tire and the Mountain Tire Tube further emphasizes the interconnectedness of biking accessories [Data: Entities (9); Relationships (12)].\\n\\n## Interconnectedness of biking products\\n\\nThe community is characterized by the interconnectedness of its entities, with the Touring-3000 Blue bike model being linked to both the Mountain Tire Tube and the Touring Tire. This interconnectedness highlights the importance of having reliable and high-quality accessories to complement premium bike models, ensuring a smooth and enjoyable riding experience for users [Data: Relationships (7, 12)].\\n\\n## Market positioning of biking accessories\\n\\nThe biking accessories in this community, including the Mountain Tire Tube and Touring Tire, are positioned as durable and reliable products. Their pricing and quality make them attractive options for biking enthusiasts who seek high-performance accessories to enhance their biking experience. This market positioning is crucial for maintaining customer satisfaction and loyalty [Data: Entities (5, 9)].\",\n",
       "   'rank': 4.5,\n",
       "   'index_name': 'bike',\n",
       "   'index_id': '1'}],\n",
       " 'entities': [],\n",
       " 'relationships': [],\n",
       " 'claims': [],\n",
       " 'sources': []}"
      ]
     },
     "execution_count": 25,
     "metadata": {},
     "output_type": "execute_result"
    }
   ],
   "source": [
    "%%time\n",
    "\n",
    "def global_search(\n",
    "    index_name: str | list[str], query: str, community_level: int\n",
    ") -> requests.Response:\n",
    "    \"\"\"Run a global query over the knowledge graph(s) associated with one or more indexes\"\"\"\n",
    "    url = endpoint + \"/query/global\"\n",
    "    # optional parameter: community level to query the graph at (default for global query = 1)\n",
    "    request = {\n",
    "        \"index_name\": index_name,\n",
    "        \"query\": query,\n",
    "        \"community_level\": community_level,\n",
    "    }\n",
    "    return requests.post(url, json=request, headers=headers)\n",
    "\n",
    "# perform a global query\n",
    "global_response = global_search(\n",
    "    index_name=index_name,\n",
    "    query=\"whats the top 5 bikes?\",\n",
    "    community_level=1,\n",
    ")\n",
    "global_response_data = parse_query_response(global_response, return_context_data=True)\n",
    "global_response_data"
   ]
  },
  {
   "cell_type": "markdown",
   "metadata": {},
   "source": [
    "### Local Query\n",
    "\n",
    "Local search queries are best suited for narrow-focused questions that require an understanding of specific entities mentioned in the documents (e.g. What are the healing properties of chamomile?)"
   ]
  },
  {
   "cell_type": "code",
   "execution_count": null,
   "metadata": {},
   "outputs": [
    {
     "name": "stdout",
     "output_type": "stream",
     "text": [
      "Method Not Allowed\n",
      "b'{\"detail\":\"Method Not Allowed\"}'\n",
      "CPU times: total: 0 ns\n",
      "Wall time: 1.06 s\n"
     ]
    },
    {
     "data": {
      "text/plain": [
       "<Response [405]>"
      ]
     },
     "execution_count": 19,
     "metadata": {},
     "output_type": "execute_result"
    }
   ],
   "source": [
    "%%time\n",
    "\n",
    "def local_search(\n",
    "    index_name: str | list[str], query: str, community_level: int\n",
    ") -> requests.Response:\n",
    "    \"\"\"Run a local query over the knowledge graph(s) associated with one or more indexes\"\"\"\n",
    "    url = endpoint + \"/query/local\"\n",
    "    # optional parameter: community level to query the graph at (default for local query = 2)\n",
    "    request = {\n",
    "        \"index_name\": index_name,\n",
    "        \"query\": query,\n",
    "        \"community_level\": community_level,\n",
    "    }\n",
    "    return requests.post(url, json=request, headers=headers)\n",
    "\n",
    "\n",
    "# perform a local query\n",
    "local_response = local_search(\n",
    "    index_name=index_name,\n",
    "    query=\"tell me about Touring-3000\",\n",
    "    community_level=2,\n",
    ")\n",
    "local_response_data = parse_query_response(local_response, return_context_data=True)\n",
    "local_response_data"
   ]
  }
 ],
 "metadata": {
  "kernelspec": {
   "display_name": "Python 3",
   "language": "python",
   "name": "python3"
  },
  "language_info": {
   "codemirror_mode": {
    "name": "ipython",
    "version": 3
   },
   "file_extension": ".py",
   "mimetype": "text/x-python",
   "name": "python",
   "nbconvert_exporter": "python",
   "pygments_lexer": "ipython3",
   "version": "3.12.1"
  }
 },
 "nbformat": 4,
 "nbformat_minor": 2
}
